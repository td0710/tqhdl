{
 "cells": [
  {
   "cell_type": "markdown",
   "id": "c1f480f3",
   "metadata": {},
   "source": [
    "TRẦN THÁI DƯƠNG 223030609"
   ]
  },
  {
   "cell_type": "code",
   "execution_count": 1,
   "id": "ad934556-08c2-4859-b8da-0042303fe9e6",
   "metadata": {
    "tags": []
   },
   "outputs": [
    {
     "data": {
      "text/html": [
       "<div>\n",
       "<style scoped>\n",
       "    .dataframe tbody tr th:only-of-type {\n",
       "        vertical-align: middle;\n",
       "    }\n",
       "\n",
       "    .dataframe tbody tr th {\n",
       "        vertical-align: top;\n",
       "    }\n",
       "\n",
       "    .dataframe thead th {\n",
       "        text-align: right;\n",
       "    }\n",
       "</style>\n",
       "<table border=\"1\" class=\"dataframe\">\n",
       "  <thead>\n",
       "    <tr style=\"text-align: right;\">\n",
       "      <th></th>\n",
       "      <th>Category</th>\n",
       "      <th>City</th>\n",
       "      <th>Container</th>\n",
       "      <th>Customer ID</th>\n",
       "      <th>Customer Name</th>\n",
       "      <th>Customer Segment</th>\n",
       "      <th>Department</th>\n",
       "      <th>Discount</th>\n",
       "      <th>Item ID</th>\n",
       "      <th>Item</th>\n",
       "      <th>...</th>\n",
       "      <th>Product Base Margin</th>\n",
       "      <th>Profit</th>\n",
       "      <th>Region</th>\n",
       "      <th>Row ID</th>\n",
       "      <th>Sales</th>\n",
       "      <th>Ship Date</th>\n",
       "      <th>Ship Mode</th>\n",
       "      <th>Shipping Cost</th>\n",
       "      <th>State</th>\n",
       "      <th>Unit Price</th>\n",
       "    </tr>\n",
       "  </thead>\n",
       "  <tbody>\n",
       "    <tr>\n",
       "      <th>0</th>\n",
       "      <td>Scissors, Rulers and Trimmers</td>\n",
       "      <td>Washington</td>\n",
       "      <td>Small Pack</td>\n",
       "      <td>2867</td>\n",
       "      <td>Dana Teague</td>\n",
       "      <td>Corporate</td>\n",
       "      <td>Office Supplies</td>\n",
       "      <td>0.01</td>\n",
       "      <td>11237</td>\n",
       "      <td>Kleencut® Forged Office Shears by Acme United ...</td>\n",
       "      <td>...</td>\n",
       "      <td>0.55</td>\n",
       "      <td>-5</td>\n",
       "      <td>East</td>\n",
       "      <td>2</td>\n",
       "      <td>7</td>\n",
       "      <td>2/19/2020</td>\n",
       "      <td>Regular Air</td>\n",
       "      <td>3</td>\n",
       "      <td>District of Columbia</td>\n",
       "      <td>2</td>\n",
       "    </tr>\n",
       "    <tr>\n",
       "      <th>1</th>\n",
       "      <td>Storage &amp; Organization</td>\n",
       "      <td>Oxford</td>\n",
       "      <td>Medium Box</td>\n",
       "      <td>1821</td>\n",
       "      <td>Vanessa Boyer</td>\n",
       "      <td>Consumer</td>\n",
       "      <td>Office Supplies</td>\n",
       "      <td>0.06</td>\n",
       "      <td>10730</td>\n",
       "      <td>Eldon Simplefile® Box Office®</td>\n",
       "      <td>...</td>\n",
       "      <td>0.57</td>\n",
       "      <td>-37</td>\n",
       "      <td>East</td>\n",
       "      <td>27</td>\n",
       "      <td>312</td>\n",
       "      <td>8/7/2018</td>\n",
       "      <td>Regular Air</td>\n",
       "      <td>6</td>\n",
       "      <td>Massachusetts</td>\n",
       "      <td>12</td>\n",
       "    </tr>\n",
       "    <tr>\n",
       "      <th>2</th>\n",
       "      <td>Telephones and Communication</td>\n",
       "      <td>Irving</td>\n",
       "      <td>Small Box</td>\n",
       "      <td>1402</td>\n",
       "      <td>Wesley Tate</td>\n",
       "      <td>Corporate</td>\n",
       "      <td>Technology</td>\n",
       "      <td>0.08</td>\n",
       "      <td>10070</td>\n",
       "      <td>I888 World Phone</td>\n",
       "      <td>...</td>\n",
       "      <td>0.60</td>\n",
       "      <td>258</td>\n",
       "      <td>Central</td>\n",
       "      <td>52</td>\n",
       "      <td>2635</td>\n",
       "      <td>3/17/2020</td>\n",
       "      <td>Regular Air</td>\n",
       "      <td>8</td>\n",
       "      <td>Texas</td>\n",
       "      <td>156</td>\n",
       "    </tr>\n",
       "    <tr>\n",
       "      <th>3</th>\n",
       "      <td>Paper</td>\n",
       "      <td>Irving</td>\n",
       "      <td>Small Box</td>\n",
       "      <td>1402</td>\n",
       "      <td>Wesley Tate</td>\n",
       "      <td>Corporate</td>\n",
       "      <td>Office Supplies</td>\n",
       "      <td>0.10</td>\n",
       "      <td>11193</td>\n",
       "      <td>Xerox 1997</td>\n",
       "      <td>...</td>\n",
       "      <td>0.37</td>\n",
       "      <td>-292</td>\n",
       "      <td>Central</td>\n",
       "      <td>53</td>\n",
       "      <td>281</td>\n",
       "      <td>3/17/2020</td>\n",
       "      <td>Regular Air</td>\n",
       "      <td>10</td>\n",
       "      <td>Texas</td>\n",
       "      <td>6</td>\n",
       "    </tr>\n",
       "    <tr>\n",
       "      <th>4</th>\n",
       "      <td>Bookcases</td>\n",
       "      <td>Oxford</td>\n",
       "      <td>Jumbo Box</td>\n",
       "      <td>2747</td>\n",
       "      <td>Brian Grady</td>\n",
       "      <td>Corporate</td>\n",
       "      <td>Furniture</td>\n",
       "      <td>0.02</td>\n",
       "      <td>10030</td>\n",
       "      <td>O'Sullivan 2-Shelf Heavy-Duty Bookcases</td>\n",
       "      <td>...</td>\n",
       "      <td>0.69</td>\n",
       "      <td>-1348</td>\n",
       "      <td>East</td>\n",
       "      <td>62</td>\n",
       "      <td>2983</td>\n",
       "      <td>9/19/2018</td>\n",
       "      <td>Delivery Truck</td>\n",
       "      <td>54</td>\n",
       "      <td>Massachusetts</td>\n",
       "      <td>49</td>\n",
       "    </tr>\n",
       "  </tbody>\n",
       "</table>\n",
       "<p>5 rows × 26 columns</p>\n",
       "</div>"
      ],
      "text/plain": [
       "                        Category        City   Container  Customer ID  \\\n",
       "0  Scissors, Rulers and Trimmers  Washington  Small Pack         2867   \n",
       "1         Storage & Organization      Oxford  Medium Box         1821   \n",
       "2   Telephones and Communication      Irving   Small Box         1402   \n",
       "3                          Paper      Irving   Small Box         1402   \n",
       "4                      Bookcases      Oxford   Jumbo Box         2747   \n",
       "\n",
       "   Customer Name Customer Segment       Department  Discount  Item ID  \\\n",
       "0    Dana Teague        Corporate  Office Supplies      0.01    11237   \n",
       "1  Vanessa Boyer         Consumer  Office Supplies      0.06    10730   \n",
       "2    Wesley Tate        Corporate       Technology      0.08    10070   \n",
       "3    Wesley Tate        Corporate  Office Supplies      0.10    11193   \n",
       "4    Brian Grady        Corporate        Furniture      0.02    10030   \n",
       "\n",
       "                                                Item  ...  \\\n",
       "0  Kleencut® Forged Office Shears by Acme United ...  ...   \n",
       "1                      Eldon Simplefile® Box Office®  ...   \n",
       "2                                   I888 World Phone  ...   \n",
       "3                                         Xerox 1997  ...   \n",
       "4            O'Sullivan 2-Shelf Heavy-Duty Bookcases  ...   \n",
       "\n",
       "   Product Base Margin Profit   Region Row ID  Sales  Ship Date  \\\n",
       "0                 0.55     -5     East      2      7  2/19/2020   \n",
       "1                 0.57    -37     East     27    312   8/7/2018   \n",
       "2                 0.60    258  Central     52   2635  3/17/2020   \n",
       "3                 0.37   -292  Central     53    281  3/17/2020   \n",
       "4                 0.69  -1348     East     62   2983  9/19/2018   \n",
       "\n",
       "        Ship Mode  Shipping Cost                 State  Unit Price  \n",
       "0     Regular Air              3  District of Columbia           2  \n",
       "1     Regular Air              6         Massachusetts          12  \n",
       "2     Regular Air              8                 Texas         156  \n",
       "3     Regular Air             10                 Texas           6  \n",
       "4  Delivery Truck             54         Massachusetts          49  \n",
       "\n",
       "[5 rows x 26 columns]"
      ]
     },
     "execution_count": 1,
     "metadata": {},
     "output_type": "execute_result"
    }
   ],
   "source": [
    "import pandas as pd\n",
    "import numpy as np\n",
    "df=pd.read_csv('Superstore.csv')\n",
    "df.head()"
   ]
  },
  {
   "cell_type": "code",
   "execution_count": 2,
   "id": "e4ac40d8-8cde-4d99-a8ad-3de71b870442",
   "metadata": {
    "tags": []
   },
   "outputs": [
    {
     "data": {
      "text/plain": [
       "(9426, 26)"
      ]
     },
     "execution_count": 2,
     "metadata": {},
     "output_type": "execute_result"
    }
   ],
   "source": [
    "df.shape"
   ]
  },
  {
   "cell_type": "code",
   "execution_count": 3,
   "id": "41aed32c-df60-4ed8-8af1-4b86c9e2fa4f",
   "metadata": {
    "tags": []
   },
   "outputs": [
    {
     "name": "stdout",
     "output_type": "stream",
     "text": [
      "[dtype('int64') dtype('float64') dtype('O')]\n"
     ]
    }
   ],
   "source": [
    "types=np.unique(df.dtypes)\n",
    "print(types)"
   ]
  },
  {
   "cell_type": "code",
   "execution_count": 7,
   "id": "c78bf6d5-5ae4-4a5e-8792-ee79a7dd6b37",
   "metadata": {
    "tags": []
   },
   "outputs": [
    {
     "name": "stdout",
     "output_type": "stream",
     "text": [
      "Dinh luong\n",
      "***** Customer ID\n",
      "***** Item ID\n",
      "***** Number of Records\n",
      "***** Order ID\n",
      "***** Order Quantity\n",
      "***** Postal Code\n",
      "***** Profit\n",
      "***** Row ID\n",
      "***** Sales\n",
      "***** Shipping Cost\n",
      "***** Unit Price\n",
      "Dinh luong\n",
      "***** Discount\n",
      "***** Product Base Margin\n",
      "Dinh tinh\n",
      "***** Category\n",
      "***** City\n",
      "***** Container\n",
      "***** Customer Name\n",
      "***** Customer Segment\n",
      "***** Department\n",
      "***** Item\n",
      "***** Order Date\n",
      "***** Order Priority\n",
      "***** Region\n",
      "***** Ship Date\n",
      "***** Ship Mode\n",
      "***** State\n"
     ]
    }
   ],
   "source": [
    "for i,dtype in enumerate(types):\n",
    "    if (dtype=='int64' or dtype=='float64'): \n",
    "        print('Dinh luong')\n",
    "    if (dtype=='O'):\n",
    "        print('Dinh tinh')\n",
    "    for e in df.columns:\n",
    "        if df[e].dtypes==dtype:\n",
    "            print('*****',e)"
   ]
  },
  {
   "cell_type": "code",
   "execution_count": 9,
   "id": "7b414641-1b64-4112-980a-0df197f46157",
   "metadata": {
    "tags": []
   },
   "outputs": [
    {
     "data": {
      "text/plain": [
       "Category               0\n",
       "City                   0\n",
       "Container              0\n",
       "Customer ID            0\n",
       "Customer Name          0\n",
       "Customer Segment       0\n",
       "Department             0\n",
       "Discount               0\n",
       "Item ID                0\n",
       "Item                   0\n",
       "Number of Records      0\n",
       "Order Date             0\n",
       "Order ID               0\n",
       "Order Priority         0\n",
       "Order Quantity         0\n",
       "Postal Code            0\n",
       "Product Base Margin    0\n",
       "Profit                 0\n",
       "Region                 0\n",
       "Row ID                 0\n",
       "Sales                  0\n",
       "Ship Date              0\n",
       "Ship Mode              0\n",
       "Shipping Cost          0\n",
       "State                  0\n",
       "Unit Price             0\n",
       "dtype: int64"
      ]
     },
     "execution_count": 9,
     "metadata": {},
     "output_type": "execute_result"
    }
   ],
   "source": [
    "df.isnull().sum()"
   ]
  },
  {
   "cell_type": "code",
   "execution_count": 10,
   "id": "7b3aa727-7be1-4cd2-9257-a8d43f6c3118",
   "metadata": {
    "tags": []
   },
   "outputs": [
    {
     "data": {
      "text/plain": [
       "Series([], dtype: int64)"
      ]
     },
     "execution_count": 10,
     "metadata": {},
     "output_type": "execute_result"
    }
   ],
   "source": [
    "df.isna().sum()[df.isna().sum()>0]"
   ]
  },
  {
   "cell_type": "code",
   "execution_count": null,
   "id": "841d4a71-0532-4e8f-8f98-db32d03de94b",
   "metadata": {},
   "outputs": [],
   "source": []
  }
 ],
 "metadata": {
  "kernelspec": {
   "display_name": "Python 3 (ipykernel)",
   "language": "python",
   "name": "python3"
  },
  "language_info": {
   "codemirror_mode": {
    "name": "ipython",
    "version": 3
   },
   "file_extension": ".py",
   "mimetype": "text/x-python",
   "name": "python",
   "nbconvert_exporter": "python",
   "pygments_lexer": "ipython3",
   "version": "3.11.5"
  }
 },
 "nbformat": 4,
 "nbformat_minor": 5
}
